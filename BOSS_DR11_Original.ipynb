{
 "cells": [
  {
   "cell_type": "code",
   "execution_count": 13,
   "metadata": {
    "collapsed": false
   },
   "outputs": [
    {
     "data": {
      "text/plain": [
       "[<matplotlib.lines.Line2D at 0x10fdfbc50>]"
      ]
     },
     "execution_count": 13,
     "metadata": {},
     "output_type": "execute_result"
    },
    {
     "data": {
      "image/png": "[encoded data removed]",
      "text/plain": [
       "<matplotlib.figure.Figure at 0x10fc3bb90>"
      ]
     },
     "metadata": {},
     "output_type": "display_data"
    }
   ],
   "source": [
    "%matplotlib inline\n",
    "import numpy as np\n",
    "import matplotlib.pyplot as plt\n",
    "import scipy as sp\n",
    "from scipy.special import erf\n",
    "import math as mt\n",
    "\n",
    "\n",
    "#r = np.loadtxt('Anderson_2013_CMASSDR10_corrfunction_x0x2_postrecon.dat')\n",
    "#print r.T\n",
    "\n",
    "#np.savetxt('Anderson_2013_CMASSDR10_corfun_x0x2_postrecon.txt',r.T)\n",
    "\n",
    "r, xi0, xi2 = np.loadtxt('Anderson_2013_CMASSDR10_corfun_x0x2_postrecon.txt')\n",
    "\n",
    "\n",
    "plt.plot(r, np.power(r,2)*xi0, 'o', color='r')"
   ]
  },
  {
   "cell_type": "code",
   "execution_count": 1,
   "metadata": {
    "collapsed": false
   },
   "outputs": [
    {
     "ename": "NameError",
     "evalue": "name 'f' is not defined",
     "output_type": "error",
     "traceback": [
      "\u001b[0;31m---------------------------------------------------------------------------\u001b[0m",
      "\u001b[0;31mNameError\u001b[0m                                 Traceback (most recent call last)",
      "\u001b[0;32m<ipython-input-1-af725c15f627>\u001b[0m in \u001b[0;36m<module>\u001b[0;34m()\u001b[0m\n\u001b[1;32m     43\u001b[0m \u001b[0;32mfor\u001b[0m \u001b[0mi\u001b[0m \u001b[0;32min\u001b[0m \u001b[0mrange\u001b[0m\u001b[0;34m(\u001b[0m\u001b[0;36m0\u001b[0m\u001b[0;34m,\u001b[0m \u001b[0mnbb\u001b[0m\u001b[0;34m)\u001b[0m\u001b[0;34m:\u001b[0m\u001b[0;34m\u001b[0m\u001b[0m\n\u001b[1;32m     44\u001b[0m     \u001b[0;32mfor\u001b[0m \u001b[0mj\u001b[0m \u001b[0;32min\u001b[0m \u001b[0mrange\u001b[0m\u001b[0;34m(\u001b[0m\u001b[0;36m0\u001b[0m\u001b[0;34m,\u001b[0m \u001b[0mnbb\u001b[0m\u001b[0;34m)\u001b[0m\u001b[0;34m:\u001b[0m\u001b[0;34m\u001b[0m\u001b[0m\n\u001b[0;32m---> 45\u001b[0;31m         \u001b[0ml\u001b[0m \u001b[0;34m=\u001b[0m \u001b[0mf\u001b[0m\u001b[0;34m.\u001b[0m\u001b[0mreadline\u001b[0m\u001b[0;34m(\u001b[0m\u001b[0;34m)\u001b[0m\u001b[0;34m\u001b[0m\u001b[0m\n\u001b[0m\u001b[1;32m     46\u001b[0m         \u001b[0mtab_cov_xi0\u001b[0m\u001b[0;34m[\u001b[0m\u001b[0mj\u001b[0m\u001b[0;34m,\u001b[0m\u001b[0mi\u001b[0m\u001b[0;34m]\u001b[0m \u001b[0;34m=\u001b[0m \u001b[0mfloat\u001b[0m\u001b[0;34m(\u001b[0m\u001b[0;34m(\u001b[0m\u001b[0mstr\u001b[0m\u001b[0;34m.\u001b[0m\u001b[0msplit\u001b[0m\u001b[0;34m(\u001b[0m\u001b[0ml\u001b[0m\u001b[0;34m)\u001b[0m\u001b[0;34m)\u001b[0m\u001b[0;34m[\u001b[0m\u001b[0;36m2\u001b[0m\u001b[0;34m]\u001b[0m\u001b[0;34m)\u001b[0m\u001b[0;34m\u001b[0m\u001b[0m\n\u001b[1;32m     47\u001b[0m \u001b[0;34m\u001b[0m\u001b[0m\n",
      "\u001b[0;31mNameError\u001b[0m: name 'f' is not defined"
     ]
    }
   ],
   "source": [
    "##Read the covariance matrix\n",
    "%matplotlib inline\n",
    "import numpy as np\n",
    "import matplotlib.pyplot as plt\n",
    "import scipy as sp\n",
    "from scipy.special import erf\n",
    "import math as mt\n",
    "\n",
    "\n",
    "\n",
    "\n",
    "\n",
    "#r = np.loadtxt('Anderson_2013_CMASSDR10_corrfunction_cov_x0x2_postrecon.dat')\n",
    "#print r.T\n",
    "\n",
    "#np.savetxt('Anderson_2013_CMASSDR10_cov_x0x2_postrecon.txt',r.T)\n",
    "r, xi0, xi2 = np.loadtxt('Anderson_2013_CMASSDR10_corfun_x0x2_postrecon.txt')\n",
    "\n",
    "#ii, jj, cov = np.loadtxt('Anderson_2013_CMASSDR10_cov_x0x2_postrecon.txt')\n",
    "\n",
    "#file_cov = 'Anderson_2013_CMASSDR10_corrfunction_cov_x0x2_postrecon.dat'\n",
    "\n",
    "#f = open(file_cov, 'r')\n",
    "#print f.readline()    # read the header\n",
    " \n",
    "\n",
    "#Covariance matrix start at 46 Mpc/h\n",
    "rcut = 46.\n",
    "ind_cut = int(np.argmin(abs(r-rcut)))\n",
    "nbb = len(r[ind_cut :])\n",
    "tab_bins = r[ind_cut :]\n",
    "tab_xi0 = xi0[ind_cut :]\n",
    "tab_xi2 = xi2[ind_cut :]\n",
    "\n",
    "\n",
    "tab_cov_xi0 = np.zeros( (nbb,nbb) )\n",
    "tab_cov_xi2 = np.zeros( (nbb,nbb) )\n",
    "cpt=0\n",
    "\n",
    "\n",
    "\n",
    "\n",
    "for i in range(0, nbb):\n",
    "    for j in range(0, nbb):\n",
    "        l = f.readline()\n",
    "        tab_cov_xi0[j,i] = float((str.split(l))[2])\n",
    "        \n",
    "for i in range(0, nbb):\n",
    "    for j in range(0, nbb):\n",
    "        l = f.readline()\n",
    "        tab_cov_xi2[j,i] = float((str.split(l))[2])\n",
    "        \n",
    "        \n",
    "np.savetxt('tab_cov_xi0_DR10.txt',  tab_cov_xi0 )\n",
    "np.savetxt('tab_bins_DR10.txt', tab_bins)\n",
    "        \n",
    "plt.pcolormesh(tab_bins, tab_bins, tab_cov_xi0)\n",
    "plt.title(r'$\\xi_0(r)$ Covariance Matrix')\n",
    "plt.xlabel('r')\n",
    "plt.ylabel('r')\n",
    "#plt.colorbar()\n",
    "plt.show()\n",
    "\n",
    "plt.pcolormesh(tab_bins, tab_bins, tab_cov_xi2)\n",
    "plt.title(r\" $ \\xi_2(r)$ Covariance Matrix\")\n",
    "plt.xlabel('r')\n",
    "plt.ylabel('r')\n",
    "plt.colorbar()\n",
    "plt.show()\n",
    "#print np.max(tab_cov_xi0)\n",
    "\n",
    "#print tab_bins\n",
    "\n",
    "tab_err_xi0 = np.zeros(nbb)\n",
    "tab_err_xi2 = np.zeros(nbb)\n",
    "\n",
    "for i in range(0,nbb):\n",
    "    tab_err_xi0[i] = tab_cov_xi0[i,i]\n",
    "    tab_err_xi2[i] = tab_cov_xi2[i,i]\n",
    "\n",
    "plt.errorbar(tab_bins, np.power(tab_bins,2)*tab_xi0,np.power(tab_bins,2)*np.sqrt(tab_err_xi0), fmt='o', color='b' )\n",
    "plt.xlabel('r')\n",
    "plt.ylabel(r'$r^2\\xi_0(r)$')\n",
    "plt.show()\n",
    "plt.errorbar(tab_bins, np.power(tab_bins,2)*tab_xi2,np.power(tab_bins,2)*np.sqrt(tab_err_xi2), fmt='o', color='green' )\n",
    "plt.xlabel('r')\n",
    "plt.ylabel(r'$r^2\\xi_2(r)$')\n",
    "plt.show()\n",
    "\n",
    "\n",
    "#plt.pcolormesh( (np.matrix()).I )\n",
    "\n",
    "cov_mat = np.matrix(tab_cov_xi0)\n",
    "#print cov_mat.I\n",
    "cov_inv = cov_mat.I\n",
    "\n",
    "A = np.squeeze(np.asarray(cov_inv))\n",
    "plt.pcolormesh( tab_bins, tab_bins,A)\n",
    "plt.title(r'$ Cov^{-1}$ for $\\xi_0$')\n",
    "plt.xlabel('r')\n",
    "plt.ylabel('r')\n",
    "plt.show()\n"
   ]
  },
  {
   "cell_type": "code",
   "execution_count": 3,
   "metadata": {
    "collapsed": false
   },
   "outputs": [
    {
     "name": "stdout",
     "output_type": "stream",
     "text": [
      "Using CAMB installed at /Users/sebinouf/Dossiers\n"
     ]
    },
    {
     "data": {
      "image/png": "[encoded data removed]",
      "text/plain": [
       "<matplotlib.figure.Figure at 0x107738310>"
      ]
     },
     "metadata": {},
     "output_type": "display_data"
    },
    {
     "name": "stdout",
     "output_type": "stream",
     "text": [
      "345 21.3753753754\n",
      "500 30.5295295295\n",
      "671 40.6286286286\n",
      "[345 500 671]\n",
      "[ 21.37537538  30.52952953  40.62862863]\n"
     ]
    },
    {
     "data": {
      "image/png": "[encoded data removed]",
      "text/plain": [
       "<matplotlib.figure.Figure at 0x10babd350>"
      ]
     },
     "metadata": {},
     "output_type": "display_data"
    },
    {
     "name": "stdout",
     "output_type": "stream",
     "text": [
      "$\\chi^2=$ [[ 24.0289277]]\n",
      "-0.2 0.0 0.0\n"
     ]
    },
    {
     "data": {
      "image/png": "[encoded data removed]",
      "text/plain": [
       "<matplotlib.figure.Figure at 0x10c2c9c90>"
      ]
     },
     "metadata": {},
     "output_type": "display_data"
    },
    {
     "data": {
      "image/png": "[encoded data removed]",
      "text/plain": [
       "<matplotlib.figure.Figure at 0x10c42e590>"
      ]
     },
     "metadata": {},
     "output_type": "display_data"
    }
   ],
   "source": [
    "#Part to fit some theoritical correlation functions\n",
    "#Need to execute the part above to work\n",
    "\n",
    "%matplotlib inline\n",
    "import sys, platform, os\n",
    "from matplotlib import pyplot as plt\n",
    "import numpy as np\n",
    "#uncomment this if you are running remotely and want to keep in synch with repo changes\n",
    "#if platform.system()!='Windows':\n",
    "#    !cd $HOME/git/camb; git pull github master; git log -1\n",
    "print('Using CAMB installed at '+ os.path.realpath(os.path.join(os.getcwd(),'..')))\n",
    "sys.path.insert(0,os.path.realpath(os.path.join(os.getcwd(),'..')))\n",
    "\n",
    "import camb\n",
    "from camb import model, initialpower\n",
    "\n",
    "import scipy.integrate as integrate\n",
    "import scipy.special as special\n",
    "from scipy.interpolate import interp1d\n",
    "\n",
    "pars = camb.CAMBparams()\n",
    "pars.set_cosmology(H0=67.5, ombh2=0.022, omch2=0.122)\n",
    "pars.set_dark_energy() #re-set defaults\n",
    "pars.InitPower.set_params(ns=0.965)\n",
    "#Not non-linear corrections couples to smaller scales than you want\n",
    "pars.set_matter_power(redshifts=[ 0.55], kmax=10.0)\n",
    "\n",
    "#Linear spectra\n",
    "#pars.NonLinear = model.NonLinear_none\n",
    "#Non-Linear spectra\n",
    "pars.NonLinear = model.NonLinear_none\n",
    "results = camb.get_results(pars)\n",
    "kh, z, pk = results.get_matter_power_spectrum(minkh=1e-4, maxkh=10, npoints = 5000)\n",
    "s8 = np.array(results.get_sigma8())\n",
    "\n",
    "xi = np.zeros(nbb)\n",
    "\n",
    "#np.savetxt('tab_cov_xi0_DR10.txt',  tab_cov_xi0 )\n",
    "#np.savetxt('tab_bins_DR10.txt', tab_bins)\n",
    "\n",
    "tab_cov_xi0  =np.loadtxt('tab_cov_xi0_DR10.txt')\n",
    "tab_bins = np.loadtxt('tab_bins_DR10.txt')\n",
    "cov_mat = np.matrix(tab_cov_xi0)\n",
    "#print cov_mat.I\n",
    "cov_inv = cov_mat.I\n",
    "\n",
    "nbb = len(tab_bins)\n",
    "\n",
    "tab_err_xi0 = np.zeros(nbb)\n",
    "\n",
    "\n",
    "for i in range(0,nbb):\n",
    "    tab_err_xi0[i] = tab_cov_xi0[i,i]\n",
    "\n",
    "\n",
    "kstart = 0\n",
    "kcut = 10\n",
    "kcut_ind = np.argmin( abs(kh - kcut))\n",
    "\n",
    "factor = np.power(kh[kstart:kcut_ind],2) * pk[0,kstart:kcut_ind] / (kh[kstart:kcut_ind]*2*np.pi**2)\n",
    "for i in range(0, nbb):\n",
    "        IntegrandXi0 = factor * np.sin(kh[kstart:kcut_ind]*tab_bins[i]) / tab_bins[i]\n",
    "        xi[i] = np.trapz(IntegrandXi0,kh[kstart:kcut_ind])\n",
    "\n",
    "bias = 2.1\n",
    "        \n",
    "plt.errorbar(tab_bins, np.power(tab_bins,2)*tab_xi0,np.power(tab_bins,2)*np.sqrt(tab_err_xi0), fmt='o', color='b' )\n",
    "plt.xlabel('r')\n",
    "plt.ylabel(r'$r^2\\xi_0(r)$')\n",
    "plt.plot(tab_bins, np.power(tab_bins,2)*xi*bias**2, color='r' )\n",
    "plt.show()\n",
    "\n",
    "\n",
    "\n",
    "\n",
    "###FIT bias#####\n",
    "nb_bias = 21\n",
    "tab_bias=np.linspace(1., 3., nb_bias)\n",
    "tab_chi2 = np.zeros(nb_bias)\n",
    "tab_chi2_cov = np.zeros(nb_bias)\n",
    "\n",
    "vals_err = np.power(tab_bins,2)*np.sqrt(tab_err_xi0)\n",
    "vals_measure = np.power(tab_bins,2)*tab_xi0\n",
    "\n",
    "for i in range(0, nb_bias):\n",
    "    vals_mod = np.power(tab_bins,2)*xi*tab_bias[i]**2\n",
    "    vals_mod_cov = xi*tab_bias[i]**2\n",
    "    tab_chi2[i] = np.sum( np.power((vals_mod - vals_measure)/vals_err,2)  )\n",
    "    tab_chi2_cov[i] = np.dot( vals_mod_cov-tab_xi0 , np.dot( cov_inv , (vals_mod_cov.reshape( nbb,1)-tab_xi0.reshape(nbb,1) ) ) )\n",
    "\n",
    "\n",
    "#Values for 1,2 and 3 sigma for a gaussian\n",
    "val1=0.68268949  \n",
    "val2=0.95449974  \n",
    "val3=0.9973002\n",
    "\n",
    "vals = np.zeros(3)\n",
    "vals[0] = val1\n",
    "vals[1] = val2\n",
    "vals[2] = val3\n",
    "\n",
    "index_sig = np.zeros(3, int)\n",
    "\n",
    "\n",
    "dof = nbb-1\n",
    "nbs = 1000\n",
    "tab_val = np.linspace(1,60, nbs)\n",
    "tab_gi = np.zeros(nbs)\n",
    "for i in range(len(tab_val)):\n",
    "    tab_gi[i] = sp.special.gammainc(dof/2.,tab_val[i]/2)\n",
    "\n",
    "#tab_gi = tab_gi/mt.gamma(dof/2.)\n",
    "for i in range(len(vals)):\n",
    "    index_sig[i] =  int(round(np.argmin( abs(tab_gi - vals[i]) )) )\n",
    "    print index_sig[i], tab_val[index_sig[i]]\n",
    "\n",
    "\n",
    "print index_sig\n",
    "\n",
    "levels = tab_val[index_sig]\n",
    "print levels\n",
    "\n",
    "#print sp.special.gammainc(dof/2., chi2/2)\n",
    "\n",
    "plt.semilogy(tab_bias, tab_chi2)\n",
    "plt.semilogy(tab_bias, tab_chi2_cov, '--')\n",
    "for i in range(0,3): plt.plot(tab_bias, np.zeros(nb_bias)+levels[i], label=(str(i+1))[0]+'$\\sigma$' )\n",
    "plt.title(r'$ \\chi^2$ for the bias  $N_{dof}=19' )\n",
    "plt.xlabel('bias')\n",
    "plt.ylabel(r'$\\chi^2$')\n",
    "plt.legend()\n",
    "plt.show()\n",
    "\n",
    "\n",
    "\n",
    "vals_mod0 = xi*tab_bias[np.argmin(tab_chi2)]**2 \n",
    "\n",
    "#print vals_mod0.reshape( nbb,1)\n",
    "print r'$\\chi^2=$',np.dot( vals_mod0-tab_xi0 , np.dot( cov_inv , (vals_mod0.reshape( nbb,1)-tab_xi0.reshape(nbb,1) ) ) )\n",
    "\n",
    "\n",
    "####fit for polynom A(r) = A1/r^2 + a2/r + a3\n",
    "nbp=21\n",
    "tab_a1 = np.linspace(-1,1,21)\n",
    "tab_a2 = np.linspace(-1,1,21)\n",
    "tab_a3 = np.linspace(-1,1,21)\n",
    "\n",
    "b = tab_bias[np.argmin(tab_chi2)]\n",
    "\n",
    "tab_chi2_cov_a = np.zeros( (21,21,21) )\n",
    "\n",
    "for i in range(0, nbp):\n",
    "    for j in range(0, nbp):\n",
    "        for k in range(0, nbp):\n",
    "            tab_pol = tab_a1[i]/np.power(tab_bins,2) + tab_a2[j]/tab_bins + tab_a3[k]\n",
    "            vals_mod_cov = b**2*(xi + tab_pol)\n",
    "            tab_chi2_cov_a[i,j,k] = np.dot( vals_mod_cov-tab_xi0 , np.dot( cov_inv , (vals_mod_cov.reshape( nbb,1)-tab_xi0.reshape(nbb,1) ) ) )\n",
    "            \n",
    "\n",
    "            \n",
    "t_min = np.unravel_index(tab_chi2_cov_a.argmin(), tab_chi2_cov_a.shape)\n",
    "\n",
    "a1 = tab_a1[t_min[0]]\n",
    "a2 = tab_a2[t_min[1]]\n",
    "a3 = tab_a3[t_min[2]]\n",
    "\n",
    "\n",
    "print a1, a2, a3\n",
    "\n",
    "tab_pol_good = a1/np.power(tab_bins,2) + a2/tab_bins + a3\n",
    "\n",
    "plt.errorbar(tab_bins, np.power(tab_bins,2)*tab_xi0,np.power(tab_bins,2)*np.sqrt(tab_err_xi0), fmt='o', color='b' )\n",
    "plt.xlabel('r')\n",
    "plt.ylabel(r'$r^2\\xi_0(r)$')\n",
    "plt.plot(tab_bins, np.power(tab_bins,2)*(xi+tab_pol_good)*b**2, color='r' )\n",
    "plt.show()\n",
    "\n",
    "plt.plot(tab_bins, tab_pol_good)\n",
    "plt.show()\n",
    "\n",
    "\n"
   ]
  },
  {
   "cell_type": "code",
   "execution_count": 13,
   "metadata": {
    "collapsed": false
   },
   "outputs": [
    {
     "name": "stdout",
     "output_type": "stream",
     "text": [
      "363 22.4384384384\n",
      "521 31.7697697698\n",
      "696 42.1051051051\n",
      "[363 521 696]\n",
      "[ 22.43843844  31.76976977  42.10510511]\n"
     ]
    }
   ],
   "source": [
    "####part to obtain the 1,2 and 3 sigmas values for a chi^2 distribution with number of degree of freedom dof\n",
    "\n",
    "dof = 20     #####important part to modify\n",
    "\n",
    "#Values for 1,2 and 3 sigma for a gaussian\n",
    "val1=0.68268949  \n",
    "val2=0.95449974  \n",
    "val3=0.9973002\n",
    "\n",
    "vals = np.zeros(3)\n",
    "vals[0] = val1\n",
    "vals[1] = val2\n",
    "vals[2] = val3\n",
    "\n",
    "index_sig = np.zeros(3, int)\n",
    "\n",
    "\n",
    "\n",
    "nbs = 1000\n",
    "tab_val = np.linspace(1,60, nbs)\n",
    "tab_gi = np.zeros(nbs)\n",
    "for i in range(len(tab_val)):\n",
    "    tab_gi[i] = sp.special.gammainc(dof/2.,tab_val[i]/2)\n",
    "\n",
    "#tab_gi = tab_gi/mt.gamma(dof/2.)\n",
    "for i in range(len(vals)):\n",
    "    index_sig[i] =  int(round(np.argmin( abs(tab_gi - vals[i]) )) )\n",
    "    print index_sig[i], tab_val[index_sig[i]]\n",
    "\n",
    "\n",
    "print index_sig\n",
    "\n",
    "levels = tab_val[index_sig]\n",
    "print levels\n"
   ]
  },
  {
   "cell_type": "code",
   "execution_count": 5,
   "metadata": {
    "collapsed": false
   },
   "outputs": [
    {
     "name": "stdout",
     "output_type": "stream",
     "text": [
      "[-10.  -9.  -8.  -7.  -6.  -5.  -4.  -3.  -2.  -1.   0.   1.   2.   3.   4.\n",
      "   5.   6.   7.   8.   9.  10.]\n"
     ]
    }
   ],
   "source": []
  },
  {
   "cell_type": "code",
   "execution_count": null,
   "metadata": {
    "collapsed": true
   },
   "outputs": [],
   "source": []
  }
 ],
 "metadata": {
  "kernelspec": {
   "display_name": "Python 3",
   "language": "python",
   "name": "python3"
  },
  "language_info": {
   "codemirror_mode": {
    "name": "ipython",
    "version": 3
   },
   "file_extension": ".py",
   "mimetype": "text/x-python",
   "name": "python",
   "nbconvert_exporter": "python",
   "pygments_lexer": "ipython3",
   "version": "3.4.0"
  }
 },
 "nbformat": 4,
 "nbformat_minor": 0
}
