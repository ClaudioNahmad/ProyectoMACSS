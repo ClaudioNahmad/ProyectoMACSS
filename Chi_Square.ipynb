{
 "cells": [
  {
   "cell_type": "code",
   "execution_count": 1,
   "metadata": {
    "collapsed": true
   },
   "outputs": [],
   "source": [
    "%matplotlib inline \n",
    "import numpy as np\n",
    "import matplotlib.pyplot as plt\n",
    "import scipy as sp \n",
    "from scipy.special import erf \n",
    "import math as mt"
   ]
  },
  {
   "cell_type": "code",
   "execution_count": 22,
   "metadata": {
    "collapsed": true
   },
   "outputs": [],
   "source": [
    "x,y,err = np.loadtxt('Example_chi2.txt', delimiter=';')"
   ]
  },
  {
   "cell_type": "code",
   "execution_count": 23,
   "metadata": {
    "collapsed": false
   },
   "outputs": [
    {
     "data": {
      "image/png": "[encoded data removed]",
      "text/plain": [
       "<matplotlib.figure.Figure at 0x7f5ebace46a0>"
      ]
     },
     "metadata": {},
     "output_type": "display_data"
    }
   ],
   "source": [
    "plt.errorbar(x,y,err,fmt='o',color='r')\n",
    "plt.xlim(-1,10)\n",
    "plt.show()"
   ]
  },
  {
   "cell_type": "code",
   "execution_count": 46,
   "metadata": {
    "collapsed": false
   },
   "outputs": [],
   "source": [
    "arr_a = np.linspace(-1,5,61)\n",
    "arr_b = np.linspace(-1,5,61)\n",
    "arr_c = np.linspace(-1,5,61)\n",
    "arr3D = np.zeros((61,61,61))\n",
    "\n",
    "for indexA in range(0,len(arr_a)):\n",
    "    for indexB in range(0,len(arr_b)):\n",
    "        for indexC in range(0,len(arr_c)):\n",
    "            ymod = arr_a[indexA] * np.power(x,2) + arr_b[indexB] * x + arr_c[indexC]\n",
    "            arr3D[indexA,indexB,indexC] = np.sum(np.power(ymod - y,2)/np.power(err,2))\n",
    "            \n"
   ]
  },
  {
   "cell_type": "code",
   "execution_count": 51,
   "metadata": {
    "collapsed": false
   },
   "outputs": [
    {
     "data": {
      "text/plain": [
       "array([[[  2656.83508374,   2648.17740188,   2639.53948231, ...,\n",
       "           2187.35658861,   2179.84511912,   2172.35341192],\n",
       "        [  2600.25659286,   2591.69659087,   2583.15635115, ...,\n",
       "           2136.44352957,   2129.02973994,   2121.6357126 ],\n",
       "        [  2544.29528238,   2535.83296025,   2527.39040039, ...,\n",
       "           2086.14765093,   2078.83154116,   2071.53519367],\n",
       "        ..., \n",
       "        [   395.48180565,    392.48955563,    389.51706789, ...,\n",
       "            254.59835705,    252.7523194 ,    250.92604403],\n",
       "        [   374.69977767,    371.80520751,    368.93039963, ...,\n",
       "            239.48176091,    237.73340312,    236.00480761],\n",
       "        [   354.53493009,    351.73803979,    348.96091177, ...,\n",
       "            224.98234517,    223.33166723,    221.70075158]],\n",
       "\n",
       "       [[  2267.95632744,   2259.91582598,   2251.8950868 , ...,\n",
       "           1834.27429521,   1827.38000612,   1820.50547931],\n",
       "        [  2215.66554319,   2207.72272159,   2199.79966227, ...,\n",
       "           1787.6489428 ,   1780.85233356,   1774.07548661],\n",
       "        [  2163.99193933,   2156.14679759,   2148.32141813, ...,\n",
       "           1741.64077078,   1734.94184141,   1728.26267431],\n",
       "        ..., \n",
       "        [   255.29003355,    252.91496392,    250.55965658, ...,\n",
       "            150.20304785,    148.97419059,    147.76509562],\n",
       "        [   238.7957122 ,    236.51832243,    234.26069495, ...,\n",
       "            139.37415834,    138.24298094,    137.13156582],\n",
       "        [   222.91857124,    220.73886134,    218.57891371, ...,\n",
       "            129.16244922,    128.12895168,    127.11521642]],\n",
       "\n",
       "       [[  1910.40507586,   1902.98175479,   1895.57819601, ...,\n",
       "           1512.51950653,   1506.24239783,   1499.98505141],\n",
       "        [  1862.40199823,   1855.07635702,   1847.7704781 , ...,\n",
       "           1470.18186074,   1464.0024319 ,   1457.84276534],\n",
       "        [  1815.016101  ,   1807.78813965,   1800.57994059, ...,\n",
       "           1428.46139534,   1422.37964636,   1416.31765966],\n",
       "        ..., \n",
       "        [   146.42576616,    144.66787693,    142.92974999, ...,\n",
       "             77.13524336,     76.5235665 ,     75.93165192],\n",
       "        [   134.21915143,    132.55894206,    130.91849498, ...,\n",
       "             70.59406047,     70.08006347,     69.58582875],\n",
       "        [   122.6297171 ,    121.06718759,    119.52442036, ...,\n",
       "             64.67005798,     64.25374083,     63.85718597]],\n",
       "\n",
       "       ..., \n",
       "       [[ 31886.23250569,  31913.37128673,  31940.52983006, ...,\n",
       "          33492.9488587 ,  33521.23385211,  33549.53860781],\n",
       "        [ 32078.34099901,  32105.57745991,  32132.8336831 , ...,\n",
       "          33690.72278386,  33719.10545713,  33747.50789269],\n",
       "        [ 32271.06667273,  32298.40081349,  32325.75471654, ...,\n",
       "          33889.11388942,  33917.59424255,  33946.09435796],\n",
       "        ..., \n",
       "        [ 44048.72431108,  44081.52852396,  44114.35249912, ...,\n",
       "          45984.03571063,  46017.98613587,  46051.9563234 ],\n",
       "        [ 44276.6292673 ,  44309.53116004,  44342.45281506, ...,\n",
       "          46217.60609869,  46251.65420379,  46285.72207118],\n",
       "        [ 44505.15140392,  44538.15097652,  44571.1703114 , ...,\n",
       "          46451.79366714,  46485.93945211,  46520.10499935]],\n",
       "\n",
       "       [[ 33314.34902262,  33342.10498406,  33369.88070778, ...,\n",
       "          34956.86183854,  34985.76401234,  35014.68594843],\n",
       "        [ 33510.74522257,  33538.59886387,  33566.47226745, ...,\n",
       "          35158.92347032,  35187.92332399,  35216.94293994],\n",
       "        [ 33707.75860291,  33735.70992407,  33763.68100751, ...,\n",
       "          35361.6022825 ,  35390.69981603,  35419.81711183],\n",
       "        ..., \n",
       "        [ 45725.52781221,  45758.94920549,  45792.39036105, ...,\n",
       "          47696.63567466,  47731.2032803 ,  47765.79064823],\n",
       "        [ 45957.72047506,  45991.23954819,  46024.77838361, ...,\n",
       "          47934.49376934,  47969.15905484,  48003.84410263],\n",
       "        [ 46190.5303183 ,  46224.1470713 ,  46257.78358657, ...,\n",
       "          48172.96904442,  48207.73200978,  48242.51473743]],\n",
       "\n",
       "       [[ 34773.79304427,  34802.1661861 ,  34830.55909022, ...,\n",
       "          36452.10232308,  36481.62167729,  36511.16079377],\n",
       "        [ 34974.47695084,  35002.94777253,  35031.43835651, ...,\n",
       "          36658.45166149,  36688.06869555,  36717.7054919 ],\n",
       "        [ 35175.77803781,  35204.34653936,  35232.93480319, ...,\n",
       "          36865.4181803 ,  36895.13289422,  36924.86737042],\n",
       "        ..., \n",
       "        [ 47433.65881806,  47467.69739173,  47501.75572768, ...,\n",
       "          49440.5631434 ,  49475.74792944,  49510.95247776],\n",
       "        [ 47670.13918753,  47704.27544106,  47738.43145687, ...,\n",
       "          49682.70894471,  49717.99141061,  49753.29363879],\n",
       "        [ 47907.23673739,  47941.47067078,  47975.72436645, ...,\n",
       "          49925.47192641,  49960.85207217,  49996.25198021]]])"
      ]
     },
     "execution_count": 51,
     "metadata": {},
     "output_type": "execute_result"
    }
   ],
   "source": [
    "arr3D"
   ]
  }
 ],
 "metadata": {
  "kernelspec": {
   "display_name": "Python 3",
   "language": "python",
   "name": "python3"
  },
  "language_info": {
   "codemirror_mode": {
    "name": "ipython",
    "version": 3
   },
   "file_extension": ".py",
   "mimetype": "text/x-python",
   "name": "python",
   "nbconvert_exporter": "python",
   "pygments_lexer": "ipython3",
   "version": "3.4.0"
  }
 },
 "nbformat": 4,
 "nbformat_minor": 0
}
